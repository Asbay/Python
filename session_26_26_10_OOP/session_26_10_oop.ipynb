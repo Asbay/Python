{
 "cells": [
  {
   "cell_type": "code",
   "execution_count": 1,
   "metadata": {},
   "outputs": [
    {
     "name": "stdout",
     "output_type": "stream",
     "text": [
      "Kasa Tipi\n"
     ]
    }
   ],
   "source": [
    "class Araba:\n",
    "    def marka(self):\n",
    "        return \"Araba\"\n",
    "    def model(self):\n",
    "        return \"Modeli\"\n",
    "    def hizi(self):\n",
    "        return \"Hizi\"\n",
    "    def kasatipi(self):\n",
    "        return \"Kasa Tipi\"\n",
    "\n",
    "\n",
    "araba1 = Araba()     \n",
    "print(araba1.kasatipi())               "
   ]
  },
  {
   "cell_type": "code",
   "execution_count": 3,
   "metadata": {},
   "outputs": [
    {
     "ename": "TypeError",
     "evalue": "Kisi() takes no arguments",
     "output_type": "error",
     "traceback": [
      "\u001b[1;31m---------------------------------------------------------------------------\u001b[0m",
      "\u001b[1;31mTypeError\u001b[0m                                 Traceback (most recent call last)",
      "\u001b[1;32m~\\AppData\\Local\\Temp/ipykernel_10272/2540833256.py\u001b[0m in \u001b[0;36m<module>\u001b[1;34m\u001b[0m\n\u001b[0;32m      8\u001b[0m         \u001b[1;32mreturn\u001b[0m \u001b[1;34mf\"Isim: {self.ad}\\n Soyisim: {self.soyad}\\nE-posta: {self.mail}\"\u001b[0m\u001b[1;33m\u001b[0m\u001b[1;33m\u001b[0m\u001b[0m\n\u001b[0;32m      9\u001b[0m \u001b[1;33m\u001b[0m\u001b[0m\n\u001b[1;32m---> 10\u001b[1;33m \u001b[0mkisi1\u001b[0m \u001b[1;33m=\u001b[0m \u001b[0mKisi\u001b[0m\u001b[1;33m(\u001b[0m\u001b[1;34m\"Ayla\"\u001b[0m\u001b[1;33m,\u001b[0m \u001b[1;34m\"Mese\"\u001b[0m\u001b[1;33m,\u001b[0m \u001b[1;34m\"ayla@email.com\"\u001b[0m\u001b[1;33m)\u001b[0m\u001b[1;33m\u001b[0m\u001b[1;33m\u001b[0m\u001b[0m\n\u001b[0m\u001b[0;32m     11\u001b[0m \u001b[0mkisi2\u001b[0m \u001b[1;33m=\u001b[0m \u001b[0mKisi\u001b[0m\u001b[1;33m(\u001b[0m\u001b[1;34m\"Áli\"\u001b[0m\u001b[1;33m,\u001b[0m \u001b[1;34m\"Demir\"\u001b[0m\u001b[1;33m,\u001b[0m\u001b[1;34m\"ali@email.com\"\u001b[0m\u001b[1;33m)\u001b[0m\u001b[1;33m\u001b[0m\u001b[1;33m\u001b[0m\u001b[0m\n\u001b[0;32m     12\u001b[0m \u001b[1;33m\u001b[0m\u001b[0m\n",
      "\u001b[1;31mTypeError\u001b[0m: Kisi() takes no arguments"
     ]
    }
   ],
   "source": [
    "class Kisi:\n",
    "    def init(self, isim,soyisim,eposta):\n",
    "        self.ad =isim\n",
    "        self.soyad =soyisim\n",
    "        self.mail=eposta\n",
    "\n",
    "    def bilgileri_görüntüle(self):\n",
    "        return f\"Isim: {self.ad}\\n Soyisim: {self.soyad}\\nE-posta: {self.mail}\"\n",
    "\n",
    "kisi1 = Kisi(\"Ayla\", \"Mese\", \"ayla@email.com\")\n",
    "kisi2 = Kisi(\"Áli\", \"Demir\",\"ali@email.com\")       \n",
    "\n",
    "print(kisi1.bilgileri_görüntüle())\n",
    "print(kisi2.bilgileri_görüntüle())"
   ]
  },
  {
   "cell_type": "code",
   "execution_count": 4,
   "metadata": {},
   "outputs": [
    {
     "name": "stdout",
     "output_type": "stream",
     "text": [
      "Ahmet Yerel\n",
      "45000\n",
      "47250.0\n",
      "Elif Dilek\n",
      "50000\n",
      "52500.0\n",
      "\n",
      "{'ad': 'Ahmet', 'soyad': 'Yerel', 'ucret': 47250.0, 'eposta': 'ahmet.yerel@email.com'}\n",
      "{'ad': 'Elif', 'soyad': 'Dilek', 'ucret': 52500.0, 'eposta': 'elif.dilek@email.com'}\n"
     ]
    }
   ],
   "source": [
    "class Personel:\n",
    "    zam_orani = 1.05\n",
    "    def __init__(self, isim, soyisim, maas):\n",
    "        self.ad = isim\n",
    "        self.soyad = soyisim\n",
    "        self.ucret = maas\n",
    "        self.eposta = f\"{isim.lower()}.{soyisim.lower()}@email.com\"\n",
    "\n",
    "    def tam_isim(self):\n",
    "        return f\"{self.ad} {self.soyad}\"\n",
    "    \n",
    "    def zam_uygula(self):\n",
    "        self.ucret = self.ucret * self.zam_orani\n",
    "        return self.ucret\n",
    "\n",
    "per1 = Personel(\"Ahmet\", \"Yerel\", 45000)\n",
    "per2 = Personel(\"Elif\", \"Dilek\", 50000)\n",
    "\n",
    "print(per1.tam_isim())\n",
    "print(per1.ucret)\n",
    "per1.zam_uygula()\n",
    "print(per1.ucret)\n",
    "\n",
    "print(per2.tam_isim())\n",
    "print(per2.ucret)\n",
    "per2.zam_uygula()\n",
    "print(per2.ucret)\n",
    "print()\n",
    "print(per1.__dict__)\n",
    "print(per2.__dict__)"
   ]
  },
  {
   "cell_type": "code",
   "execution_count": null,
   "metadata": {},
   "outputs": [],
   "source": [
    "class Personel:\n",
    "    zam_orani = 1.05\n",
    "\n",
    "    def __init__(self, isim, soyisim, maas):\n",
    "        self.ad = isim\n",
    "        self.soyad = soyisim\n",
    "        self.ucret = maas\n",
    "        self.eposta = f\"{isim.lower()}.{soyisim.lower()}@email.com\"\n",
    "\n",
    "    def tam_isim(self):\n",
    "        return f\"{self.ad} {self.soyad}\"\n",
    "    \n",
    "    def zam_uygula(self):\n",
    "        self.ucret = self.ucret * self.zam_orani\n",
    "        return self.ucret\n",
    "    \n",
    "    @classmethod\n",
    "    def zam_oranini_belirle(cls, oran): # Sınıfın özelliklerini kullanmasına rağmen sınıfa doğrudan bağlı olmayan özerk bir method, decorator olmazsa(@classmethod) hata verir\n",
    "        eski_oran = cls.zam_orani\n",
    "        cls.zam_orani = oran\n",
    "        print(f\"Eski zam oranı ({eski_oran}) güncellendi. Yeni oran : {cls.zam_orani}\")\n",
    "\n",
    "\n",
    "per1 = Personel(\"Ahmet\", \"Yerel\", 45000)\n",
    "per2 = Personel(\"Elif\", \"Dilek\", 50000)\n",
    "\n",
    "Personel.zam_oranini_belirle(1.1)\n",
    "\n",
    "print(per1.zam_orani)\n",
    "print(Personel.zam_orani)\n",
    "print(per2.zam_orani)\n",
    "print()\n",
    "print(per1.ucret)\n",
    "per1.zam_uygula()\n",
    "print(per1.ucret)"
   ]
  },
  {
   "cell_type": "code",
   "execution_count": null,
   "metadata": {},
   "outputs": [],
   "source": []
  }
 ],
 "metadata": {
  "kernelspec": {
   "display_name": "base",
   "language": "python",
   "name": "python3"
  },
  "language_info": {
   "codemirror_mode": {
    "name": "ipython",
    "version": 3
   },
   "file_extension": ".py",
   "mimetype": "text/x-python",
   "name": "python",
   "nbconvert_exporter": "python",
   "pygments_lexer": "ipython3",
   "version": "3.9.7"
  }
 },
 "nbformat": 4,
 "nbformat_minor": 2
}
