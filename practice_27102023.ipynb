{
 "cells": [
  {
   "cell_type": "markdown",
   "metadata": {},
   "source": [
    "liste = [5, \"aa15\" , 15 , \"asdeddcds48\", 48 ] listenin içideki int elemanları döndüren try except li kodu yazın. listenin içideki int elemanları döndüren try except li kodu yazın."
   ]
  },
  {
   "cell_type": "code",
   "execution_count": 2,
   "metadata": {},
   "outputs": [
    {
     "name": "stdout",
     "output_type": "stream",
     "text": [
      "sayısal değer değil bu ifade:  aa15\n",
      "sayısal değer değil bu ifade:  asdeddcds48\n",
      "[5, 15, 48]\n"
     ]
    }
   ],
   "source": [
    "liste = [5, \"aa15\" , 15 , \"asdeddcds48\", 48]\n",
    "bos_liste = []\n",
    "\n",
    "for i in liste:\n",
    "\n",
    "    try:\n",
    "        x = int(i)\n",
    "        bos_liste.append(x)\n",
    "    except:\n",
    "        print(\"sayısal değer değil bu ifade: \", i)\n",
    "        continue\n",
    "\n",
    "print(bos_liste)"
   ]
  },
  {
   "cell_type": "code",
   "execution_count": 3,
   "metadata": {},
   "outputs": [
    {
     "ename": "ValueError",
     "evalue": "invalid literal for int() with base 10: 'aa15'",
     "output_type": "error",
     "traceback": [
      "\u001b[1;31m---------------------------------------------------------------------------\u001b[0m",
      "\u001b[1;31mValueError\u001b[0m                                Traceback (most recent call last)",
      "\u001b[1;32mc:\\Users\\Techpro\\Desktop\\AdvancePython\\practice_27102023\\practice_27102023.ipynb Cell 3\u001b[0m line \u001b[0;36m5\n\u001b[0;32m      <a href='vscode-notebook-cell:/c%3A/Users/Techpro/Desktop/AdvancePython/practice_27102023/practice_27102023.ipynb#W2sZmlsZQ%3D%3D?line=1'>2</a>\u001b[0m bos_liste \u001b[39m=\u001b[39m []\n\u001b[0;32m      <a href='vscode-notebook-cell:/c%3A/Users/Techpro/Desktop/AdvancePython/practice_27102023/practice_27102023.ipynb#W2sZmlsZQ%3D%3D?line=3'>4</a>\u001b[0m \u001b[39mfor\u001b[39;00m i \u001b[39min\u001b[39;00m liste:\n\u001b[1;32m----> <a href='vscode-notebook-cell:/c%3A/Users/Techpro/Desktop/AdvancePython/practice_27102023/practice_27102023.ipynb#W2sZmlsZQ%3D%3D?line=4'>5</a>\u001b[0m     x \u001b[39m=\u001b[39m \u001b[39mint\u001b[39;49m(i)\n\u001b[0;32m      <a href='vscode-notebook-cell:/c%3A/Users/Techpro/Desktop/AdvancePython/practice_27102023/practice_27102023.ipynb#W2sZmlsZQ%3D%3D?line=5'>6</a>\u001b[0m     bos_liste\u001b[39m.\u001b[39mappend(x)\n\u001b[0;32m      <a href='vscode-notebook-cell:/c%3A/Users/Techpro/Desktop/AdvancePython/practice_27102023/practice_27102023.ipynb#W2sZmlsZQ%3D%3D?line=7'>8</a>\u001b[0m \u001b[39mprint\u001b[39m(bos_liste)\n",
      "\u001b[1;31mValueError\u001b[0m: invalid literal for int() with base 10: 'aa15'"
     ]
    }
   ],
   "source": [
    "liste = [5, \"aa15\" , 15 , \"asdeddcds48\", 48]\n",
    "bos_liste = []\n",
    "\n",
    "for i in liste:\n",
    "    x = int(i)\n",
    "    bos_liste.append(x)\n",
    "\n",
    "print(bos_liste)"
   ]
  },
  {
   "cell_type": "code",
   "execution_count": 5,
   "metadata": {},
   "outputs": [],
   "source": [
    "def faktoriyel(x):\n",
    "    carpim=1\n",
    "    for i in range(x, 0, -1):\n",
    "        carpim *= i\n",
    "    return carpim"
   ]
  },
  {
   "cell_type": "code",
   "execution_count": 6,
   "metadata": {},
   "outputs": [
    {
     "data": {
      "text/plain": [
       "120"
      ]
     },
     "execution_count": 6,
     "metadata": {},
     "output_type": "execute_result"
    }
   ],
   "source": [
    "faktoriyel(5)"
   ]
  },
  {
   "cell_type": "code",
   "execution_count": 7,
   "metadata": {},
   "outputs": [
    {
     "data": {
      "text/plain": [
       "1"
      ]
     },
     "execution_count": 7,
     "metadata": {},
     "output_type": "execute_result"
    }
   ],
   "source": [
    "faktoriyel(-5)"
   ]
  },
  {
   "cell_type": "code",
   "execution_count": 8,
   "metadata": {},
   "outputs": [],
   "source": [
    "def faktoriyel(x):\n",
    "    assert x >= 0, \"Negatif sayıların faktöriyel değeri hesaplanmaz\"\n",
    "    carpim=1\n",
    "    for i in range(x, 0, -1):\n",
    "        carpim *= i\n",
    "    return carpim"
   ]
  },
  {
   "cell_type": "code",
   "execution_count": 9,
   "metadata": {},
   "outputs": [
    {
     "ename": "AssertionError",
     "evalue": "Negatif sayıların faktöriyel değeri hesaplanmaz",
     "output_type": "error",
     "traceback": [
      "\u001b[1;31m---------------------------------------------------------------------------\u001b[0m",
      "\u001b[1;31mAssertionError\u001b[0m                            Traceback (most recent call last)",
      "\u001b[1;32mc:\\Users\\Techpro\\Desktop\\AdvancePython\\practice_27102023\\practice_27102023.ipynb Cell 8\u001b[0m line \u001b[0;36m1\n\u001b[1;32m----> <a href='vscode-notebook-cell:/c%3A/Users/Techpro/Desktop/AdvancePython/practice_27102023/practice_27102023.ipynb#X10sZmlsZQ%3D%3D?line=0'>1</a>\u001b[0m faktoriyel(\u001b[39m-\u001b[39;49m\u001b[39m5\u001b[39;49m)\n",
      "\u001b[1;32mc:\\Users\\Techpro\\Desktop\\AdvancePython\\practice_27102023\\practice_27102023.ipynb Cell 8\u001b[0m line \u001b[0;36m2\n\u001b[0;32m      <a href='vscode-notebook-cell:/c%3A/Users/Techpro/Desktop/AdvancePython/practice_27102023/practice_27102023.ipynb#X10sZmlsZQ%3D%3D?line=0'>1</a>\u001b[0m \u001b[39mdef\u001b[39;00m \u001b[39mfaktoriyel\u001b[39m(x):\n\u001b[1;32m----> <a href='vscode-notebook-cell:/c%3A/Users/Techpro/Desktop/AdvancePython/practice_27102023/practice_27102023.ipynb#X10sZmlsZQ%3D%3D?line=1'>2</a>\u001b[0m     \u001b[39massert\u001b[39;00m x \u001b[39m>\u001b[39m\u001b[39m=\u001b[39m \u001b[39m0\u001b[39m, \u001b[39m\"\u001b[39m\u001b[39mNegatif sayıların faktöriyel değeri hesaplanmaz\u001b[39m\u001b[39m\"\u001b[39m\n\u001b[0;32m      <a href='vscode-notebook-cell:/c%3A/Users/Techpro/Desktop/AdvancePython/practice_27102023/practice_27102023.ipynb#X10sZmlsZQ%3D%3D?line=2'>3</a>\u001b[0m     carpim\u001b[39m=\u001b[39m\u001b[39m1\u001b[39m\n\u001b[0;32m      <a href='vscode-notebook-cell:/c%3A/Users/Techpro/Desktop/AdvancePython/practice_27102023/practice_27102023.ipynb#X10sZmlsZQ%3D%3D?line=3'>4</a>\u001b[0m     \u001b[39mfor\u001b[39;00m i \u001b[39min\u001b[39;00m \u001b[39mrange\u001b[39m(x, \u001b[39m0\u001b[39m, \u001b[39m-\u001b[39m\u001b[39m1\u001b[39m):\n",
      "\u001b[1;31mAssertionError\u001b[0m: Negatif sayıların faktöriyel değeri hesaplanmaz"
     ]
    }
   ],
   "source": [
    "faktoriyel(-5)"
   ]
  },
  {
   "cell_type": "code",
   "execution_count": 11,
   "metadata": {},
   "outputs": [
    {
     "ename": "AssertionError",
     "evalue": "ornek kelimesi metin içinde yer almıyor",
     "output_type": "error",
     "traceback": [
      "\u001b[1;31m---------------------------------------------------------------------------\u001b[0m",
      "\u001b[1;31mAssertionError\u001b[0m                            Traceback (most recent call last)",
      "\u001b[1;32mc:\\Users\\Techpro\\Desktop\\AdvancePython\\practice_27102023\\practice_27102023.ipynb Cell 9\u001b[0m line \u001b[0;36m3\n\u001b[0;32m      <a href='vscode-notebook-cell:/c%3A/Users/Techpro/Desktop/AdvancePython/practice_27102023/practice_27102023.ipynb#X11sZmlsZQ%3D%3D?line=0'>1</a>\u001b[0m metin \u001b[39m=\u001b[39m \u001b[39m\"\u001b[39m\u001b[39mMerhaba, bu bir örnek metindir.\u001b[39m\u001b[39m\"\u001b[39m\n\u001b[0;32m      <a href='vscode-notebook-cell:/c%3A/Users/Techpro/Desktop/AdvancePython/practice_27102023/practice_27102023.ipynb#X11sZmlsZQ%3D%3D?line=1'>2</a>\u001b[0m aranan_kelime \u001b[39m=\u001b[39m \u001b[39m\"\u001b[39m\u001b[39mornek\u001b[39m\u001b[39m\"\u001b[39m\n\u001b[1;32m----> <a href='vscode-notebook-cell:/c%3A/Users/Techpro/Desktop/AdvancePython/practice_27102023/practice_27102023.ipynb#X11sZmlsZQ%3D%3D?line=2'>3</a>\u001b[0m \u001b[39massert\u001b[39;00m aranan_kelime \u001b[39min\u001b[39;00m metin, \u001b[39mf\u001b[39m\u001b[39m\"\u001b[39m\u001b[39m{\u001b[39;00maranan_kelime\u001b[39m}\u001b[39;00m\u001b[39m kelimesi metin içinde yer almıyor\u001b[39m\u001b[39m\"\u001b[39m\n",
      "\u001b[1;31mAssertionError\u001b[0m: ornek kelimesi metin içinde yer almıyor"
     ]
    }
   ],
   "source": [
    "metin = \"Merhaba, bu bir örnek metindir.\"\n",
    "aranan_kelime = \"ornek\"\n",
    "assert aranan_kelime in metin, f\"{aranan_kelime} kelimesi metin içinde yer almıyor\""
   ]
  },
  {
   "cell_type": "code",
   "execution_count": 17,
   "metadata": {},
   "outputs": [
    {
     "name": "stdout",
     "output_type": "stream",
     "text": [
      "Sayılar 0'a bölünemez\n"
     ]
    }
   ],
   "source": [
    "try:\n",
    "    x = int(input(\"Bir sayı giriniz\"))\n",
    "    y = int(input(\"Bir sayı giriniz\"))\n",
    "    sonuc = x / y\n",
    "except ZeroDivisionError:\n",
    "    print(\"Sayılar 0'a bölünemez\")\n",
    "except ValueError:\n",
    "    print(\"Lütfen bir sayı giriniz.\")\n",
    "else:\n",
    "    print(\"Sonuc\", sonuc)"
   ]
  },
  {
   "cell_type": "markdown",
   "metadata": {},
   "source": [
    "dışarıdan kullanıcı yaşını girsin, kullanıcı negatif girdiğinde hata veren kodu tasarlayalım"
   ]
  },
  {
   "cell_type": "code",
   "execution_count": 20,
   "metadata": {},
   "outputs": [
    {
     "name": "stdout",
     "output_type": "stream",
     "text": [
      "Yaşınız 10\n"
     ]
    }
   ],
   "source": [
    "def yas_kontrolu(yas):\n",
    "    assert yas >= 0, \"Yaş negatif olamaz!\"\n",
    "    return yas\n",
    "\n",
    "yas = input(\"Yaşınızı giriniz: \")\n",
    "\n",
    "try:\n",
    "    yas = yas_kontrolu(int(yas))\n",
    "except AssertionError as hata:\n",
    "    print(\"Değerlendirme sonucu: \", hata)\n",
    "except ValueError:\n",
    "    print(\"Lütfen bir sayı girdiğinizden emin olunuz!\")\n",
    "else:\n",
    "    print(\"Yaşınız\", yas)"
   ]
  },
  {
   "cell_type": "markdown",
   "metadata": {},
   "source": [
    "try-except-else-finally bloğu tasarlayın, bir dosyanın bulunduğunuz klasörde olup olmadığını kontrol etsin yoksa dosya bulunamadı hatasını yakalasın, dosya varsa içeriğini ekrana yazdırsın. Sonunda da dosyayı kapatsın"
   ]
  },
  {
   "cell_type": "code",
   "execution_count": 26,
   "metadata": {},
   "outputs": [
    {
     "name": "stdout",
     "output_type": "stream",
     "text": [
      "sdfsdfsfsdfsdfsdfsd\n"
     ]
    }
   ],
   "source": [
    "try:\n",
    "    dosya = open(\"dosya.txt\", \"r\")\n",
    "    icerik = dosya.read()\n",
    "except FileNotFoundError:\n",
    "    print(\"Dosyayı bulamadım.\")\n",
    "else:\n",
    "    print(icerik)\n",
    "finally:\n",
    "    dosya.close()"
   ]
  },
  {
   "cell_type": "markdown",
   "metadata": {},
   "source": [
    "metin = \"Python, Java ve C++ gibi diller oldukça popülerdir.\"<br><br>\n",
    "metin içinde \"Python\" kelimesini aramak için regexli kodlamayı yapınız."
   ]
  },
  {
   "cell_type": "code",
   "execution_count": 27,
   "metadata": {},
   "outputs": [
    {
     "name": "stdout",
     "output_type": "stream",
     "text": [
      "Python bulundu\n"
     ]
    }
   ],
   "source": [
    "import re\n",
    "metin = \"Python, Java ve C++ gibi diller oldukça popülerdir.\"\n",
    "arama_kelimesi = \"Python\"\n",
    "\n",
    "sonuc = re.search(arama_kelimesi, metin)\n",
    "\n",
    "if sonuc:\n",
    "    print(f\"{arama_kelimesi} bulundu\")\n",
    "else:\n",
    "    print(f\"{arama_kelimesi} bulunamadı\")"
   ]
  }
 ],
 "metadata": {
  "kernelspec": {
   "display_name": "Python 3",
   "language": "python",
   "name": "python3"
  },
  "language_info": {
   "codemirror_mode": {
    "name": "ipython",
    "version": 3
   },
   "file_extension": ".py",
   "mimetype": "text/x-python",
   "name": "python",
   "nbconvert_exporter": "python",
   "pygments_lexer": "ipython3",
   "version": "3.11.4"
  }
 },
 "nbformat": 4,
 "nbformat_minor": 2
}
