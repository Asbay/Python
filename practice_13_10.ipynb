{
 "cells": [
  {
   "cell_type": "code",
   "execution_count": null,
   "metadata": {},
   "outputs": [],
   "source": [
    "yazili1 = float(input(\"1. yazılı notunu giriniz: \"))\n",
    "yazili2 = float(input(\"2. yazılı notunu giriniz: \"))\n",
    "sozlu = float(input(\"Sözlü notunu giriniz: \"))\n",
    "\n",
    "ortalama = round(((yazili1 + yazili2 + sozlu) / 3), 2)\n",
    "\n",
    "if (ortalama >= 0) and (ortalama < 25):\n",
    "    print(f\"Ortalamanız: {ortalama}, notunuz: 0\")\n",
    "elif (ortalama >= 25) and (ortalama < 45):\n",
    "    print(f\"Ortalamanız: {ortalama}, notunuz: 1\")\n",
    "elif (ortalama >= 45) and (ortalama < 55):\n",
    "    print(f\"Ortalamanız: {ortalama}, notunuz: 2\")\n",
    "elif (ortalama >= 55) and (ortalama < 70):\n",
    "    print(f\"Ortalamanız: {ortalama}, notunuz: 3\")\n",
    "elif (ortalama >= 70) and (ortalama < 85):\n",
    "    print(f\"Ortalamanız: {ortalama}, notunuz: 4\")\n",
    "elif (ortalama >= 85) and (ortalama < 100):\n",
    "    print(f\"Ortalamanız: {ortalama}, notunuz: 5\")\n",
    "else: print(\"Yanlış bilgi girdiniz\")"
   ]
  },
  {
   "cell_type": "markdown",
   "metadata": {},
   "source": [
    "lists tuples dictionaries, sets\n",
    "1- lists: elemanları sıralanabilir, güncellenebilir ayrıca her bir eleman liste içerisinde birden fazla tekrarlanabilir.\n",
    "* stringler, listeler >> iterable\n",
    "* int, float, bool >> not iterable\n",
    "* stringler >> immutable\n",
    "* listeler >> mutable"
   ]
  },
  {
   "cell_type": "code",
   "execution_count": null,
   "metadata": {},
   "outputs": [],
   "source": []
  }
 ],
 "metadata": {
  "language_info": {
   "name": "python"
  }
 },
 "nbformat": 4,
 "nbformat_minor": 2
}
