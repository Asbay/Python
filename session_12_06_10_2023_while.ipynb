{
 "cells": [
  {
   "cell_type": "markdown",
   "metadata": {},
   "source": [
    "While\n"
   ]
  },
  {
   "cell_type": "code",
   "execution_count": 5,
   "metadata": {},
   "outputs": [
    {
     "name": "stdout",
     "output_type": "stream",
     "text": [
      "1\n",
      "2\n",
      "3\n",
      "4\n",
      "5\n",
      "6\n",
      "7\n",
      "8\n",
      "9\n"
     ]
    }
   ],
   "source": [
    "x=1\n",
    "\n",
    "while 10>x:\n",
    "    \n",
    "    print(x)\n",
    "    x += 1"
   ]
  },
  {
   "cell_type": "code",
   "execution_count": 6,
   "metadata": {},
   "outputs": [
    {
     "name": "stdout",
     "output_type": "stream",
     "text": [
      "1\n",
      "4\n",
      "9\n",
      "16\n",
      "25\n"
     ]
    }
   ],
   "source": [
    "x=1\n",
    "\n",
    "while x<=5:\n",
    "    print(x**2)\n",
    "    x+=1"
   ]
  },
  {
   "cell_type": "code",
   "execution_count": 8,
   "metadata": {},
   "outputs": [
    {
     "name": "stdout",
     "output_type": "stream",
     "text": [
      "dogru sayi girmediniz\n"
     ]
    }
   ],
   "source": [
    "x= int(input(\"1 ile 100 arasinda bir sayi giriniz\"))\n",
    "\n",
    "while x>50:\n",
    "    x= int(input(\"Bir sayi giriniz\"))\n",
    "    print(\"dogru sayi girmediniz\")"
   ]
  },
  {
   "cell_type": "code",
   "execution_count": 10,
   "metadata": {},
   "outputs": [
    {
     "name": "stdout",
     "output_type": "stream",
     "text": [
      "Yanlis sifre. Sifrenizi tekrar giriniz\n",
      "Yanlis sifre. Sifrenizi tekrar giriniz\n",
      "isleme yönlendiriliyorsunuz\n"
     ]
    }
   ],
   "source": [
    "kayitli_sifre= \"1234\"\n",
    "count = 0\n",
    "y =True\n",
    "\n",
    "while y:\n",
    "\n",
    "    count +=1\n",
    "    kullanici_girisi =  input(\"Lütfen sifrenizi giriniz\")\n",
    "\n",
    "    if kayitli_sifre == kullanici_girisi:\n",
    "        print(\"isleme yönlendiriliyorsunuz\")\n",
    "        y=False\n",
    "        break\n",
    "\n",
    "    else:\n",
    "        print(\"Yanlis sifre. Sifrenizi tekrar giriniz\")\n",
    "\n",
    "    if count == 3:\n",
    "        y= False        \n",
    "        print(\"Hakkiniz doldu. Kartiniz bloke oldu\")\n",
    "    else:\n",
    "        print(\"Yanlis sifre. Sifrenizi tekrar girin\")    "
   ]
  }
 ],
 "metadata": {
  "kernelspec": {
   "display_name": "base",
   "language": "python",
   "name": "python3"
  },
  "language_info": {
   "codemirror_mode": {
    "name": "ipython",
    "version": 3
   },
   "file_extension": ".py",
   "mimetype": "text/x-python",
   "name": "python",
   "nbconvert_exporter": "python",
   "pygments_lexer": "ipython3",
   "version": "3.9.7"
  }
 },
 "nbformat": 4,
 "nbformat_minor": 2
}
