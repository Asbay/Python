{
 "cells": [
  {
   "cell_type": "markdown",
   "metadata": {},
   "source": [
    "1 - Kullanıcıdan 1-100 arası bir sayı girmesini isteyin. 1 ile girilen sayı arasındaki çift sayıların toplamımı yazıdran kodu yazın. örn: girilen sayı 15. 1-15 arsı çift sayıların toplamı: 56 "
   ]
  },
  {
   "cell_type": "code",
   "execution_count": null,
   "metadata": {},
   "outputs": [],
   "source": [
    "sayi = int(input(\"Lütfen 1 ile 100 arasında bir sayı girin: \"))\n",
    "if 1 <= sayi <= 100:\n",
    "    toplam = 0\n",
    "    for i in range(2, sayi + 1, 2):\n",
    "        toplam += i\n",
    "    print(f\"1 ile {sayi} arasındaki çift sayıların toplamı: {toplam}\")\n",
    "else:\n",
    "    print(\"Lütfen 1 ile 100 arasında bir sayı girin.\")"
   ]
  },
  {
   "cell_type": "markdown",
   "metadata": {},
   "source": [
    "2 - Kullanıcıdan bir sayı alın ve sayıyı tersten yazdırın. örn: 1524 >> 4251"
   ]
  },
  {
   "cell_type": "code",
   "execution_count": null,
   "metadata": {},
   "outputs": [],
   "source": [
    "sayi = input(\"Bir sayı girin: \")\n",
    "\n",
    "sayinin_tersi = sayi[::-1]\n",
    "\n",
    "print(f\"Girilen sayının ters hali: {ters_sayi}\")"
   ]
  },
  {
   "cell_type": "markdown",
   "metadata": {},
   "source": [
    "3 - Kullanıcıdan oluşturacağınız bir listenin eleman sayısını girmesini isteyin. Daha sonra listeye bu sayı kadar eleman eklemesini sağlayan kodu yazın. (örn: liste eleman sayısı 4. Kullanıcının belirlediği 4 elemanlı bir liste döndürülmelidir.) "
   ]
  },
  {
   "cell_type": "code",
   "execution_count": 5,
   "metadata": {},
   "outputs": [
    {
     "name": "stdout",
     "output_type": "stream",
     "text": [
      "Oluşturulan liste: ['1', '2', '3']\n"
     ]
    }
   ],
   "source": [
    "liste_uzunlugu = int(input(\"Liste uzunluğunu girin: \"))\n",
    "listem = []\n",
    "for i in range(liste_uzunlugu):\n",
    "   x = input(f\"{i+1}. elemanı girin: \")\n",
    "   listem.append(x)\n",
    "print(\"listeniz:\", listem)"
   ]
  },
  {
   "cell_type": "markdown",
   "metadata": {},
   "source": [
    "4 - Kullanıcının girdiği sayının asal sayı olup olmadığını bulan kodu yazın."
   ]
  },
  {
   "cell_type": "code",
   "execution_count": null,
   "metadata": {},
   "outputs": [],
   "source": [
    "\n",
    "sayi = int(input(\"Bir sayı girin: \"))\n",
    "\n",
    "asal = True\n",
    "\n",
    "if sayi < 2:\n",
    "    asal = False\n",
    "else:\n",
    "    for i in range(2, sayi):\n",
    "        if sayi % i == 0:\n",
    "            asal = False\n",
    "            break\n",
    "if asal:\n",
    "    print(f\"{sayi} bir asal sayıdır.\")\n",
    "else:\n",
    "    print(f\"{sayi} bir asal sayı değildir.\")"
   ]
  },
  {
   "cell_type": "markdown",
   "metadata": {},
   "source": [
    "5 - Anne, baba ve çocuktan oluşan çekirdek ailenin Süper aile olup olmadığını bulan kodu yazın. isimleri kullanıcıdan isteyin. (Çocuğun ismindeki sessiz harflerin hepsi, anne ve babanın isimlerinde var ise bu aile süper ailedir.(Not: anne ve baba isminden en az bir tane olmalı.). örn1: baba adı = \"Halil\", anne adı= \"Merve\", çocuk adı= \"Veli\" >> Süper aile. (\"v\" anneden, \"l\" babadan)\n",
    "örn2: baba adı = \"Murat\", anne adı= \"Songül\", çocuk adı= \"Mert\" >> Süper aile değil. Anneden harf yok."
   ]
  },
  {
   "cell_type": "code",
   "execution_count": null,
   "metadata": {},
   "outputs": [],
   "source": []
  }
 ],
 "metadata": {
  "kernelspec": {
   "display_name": "base",
   "language": "python",
   "name": "python3"
  },
  "language_info": {
   "codemirror_mode": {
    "name": "ipython",
    "version": 3
   },
   "file_extension": ".py",
   "mimetype": "text/x-python",
   "name": "python",
   "nbconvert_exporter": "python",
   "pygments_lexer": "ipython3",
   "version": "3.9.7"
  }
 },
 "nbformat": 4,
 "nbformat_minor": 2
}
