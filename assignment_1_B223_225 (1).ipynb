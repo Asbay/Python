{
 "cells": [
  {
   "cell_type": "markdown",
   "metadata": {},
   "source": [
    "1 - Kullanıcıdan input ile iki veri alın. Bu veriler tamsayı ise çarpımını yazdırın. "
   ]
  },
  {
   "cell_type": "code",
   "execution_count": 9,
   "metadata": {},
   "outputs": [
    {
     "name": "stdout",
     "output_type": "stream",
     "text": [
      "<class 'str'>\n",
      "<class 'str'>\n",
      "Girdiğiniz sayı int deger degil.\n"
     ]
    }
   ],
   "source": [
    "sayi1 = input(\"Birinci tam sayıyı girin: \")\n",
    "sayi2 = input(\"İkinci tam sayıyı girin: \")\n",
    "\n",
    "\n",
    "if type(sayi1) == int and type(sayi2) == int:\n",
    "    print(sayi1 * sayi2)\n",
    "else:\n",
    "    print(\"Girdiğiniz sayı int deger degil.\")"
   ]
  },
  {
   "cell_type": "markdown",
   "metadata": {},
   "source": [
    "2 - Kullanıcıdan bir sayı isteyin. Sayı tek ise 2 katını çift ise karesini yazdırın. "
   ]
  },
  {
   "cell_type": "code",
   "execution_count": 2,
   "metadata": {},
   "outputs": [
    {
     "name": "stdout",
     "output_type": "stream",
     "text": [
      "Girdiğiniz sayı tektir.\n"
     ]
    }
   ],
   "source": [
    "sayi = int(input(\"Bir sayi giriniz\"))\n",
    "if sayi % 2 == 0:\n",
    "    print(\"sayı çift.\")\n",
    "else:\n",
    "    print(\"sayı tek.\")"
   ]
  },
  {
   "cell_type": "markdown",
   "metadata": {},
   "source": [
    "3 - Kullanıcıdan iki tam sayı isteyin. Sayılar eşitse veya sayıların farkı 5 in katı ise True döndüren algoritmayı yazın. "
   ]
  },
  {
   "cell_type": "code",
   "execution_count": 4,
   "metadata": {},
   "outputs": [
    {
     "name": "stdout",
     "output_type": "stream",
     "text": [
      "False\n"
     ]
    }
   ],
   "source": [
    "\n",
    "sayi1 = int(input(\"Birinci tam sayıyı girin: \"))\n",
    "sayi2 = int(input(\"İkinci tam sayıyı girin: \"))\n",
    "\n",
    "if sayi1 == sayi2:\n",
    "    sonuc = True\n",
    "elif abs(sayi1 - sayi2) % 5 == 0:\n",
    "    sonuc = True\n",
    "else:\n",
    "    sonuc = False\n",
    "    print(sonuc)"
   ]
  },
  {
   "cell_type": "markdown",
   "metadata": {},
   "source": [
    "4 - Kullanıcıya sınavdan aldığı notu sorunuz. Denk gelen Harf notunu yazdırın. 0-100 aralığı        dışında girilen notların geçersiz olduğuu belirtmeyi unutmayın. \n",
    "    80 - 100 aralığı \"A\",\n",
    "    65 - 79 aralığı \"B\",\n",
    "    55 - 64 aralığı \"C\",\n",
    "    35 - 54 aralığı \"D\",\n",
    "    0 - 34 aralığı \"F\""
   ]
  },
  {
   "cell_type": "code",
   "execution_count": 5,
   "metadata": {},
   "outputs": [
    {
     "name": "stdout",
     "output_type": "stream",
     "text": [
      "C\n"
     ]
    }
   ],
   "source": [
    "sinav_notu = int(input(\"Sınav notunuzu girin: \"))\n",
    "\n",
    "if 0 <= sinav_notu <= 100:\n",
    "    \n",
    "    if 80 <= sinav_notu <= 100:\n",
    "        harf_notu = \"A\"\n",
    "    elif 65 <= sinav_notu <= 79:\n",
    "        harf_notu = \"B\"\n",
    "    elif 55 <= sinav_notu <= 64:\n",
    "        harf_notu = \"C\"\n",
    "    elif 35 <= sinav_notu <= 54:\n",
    "        harf_notu = \"D\"\n",
    "    else:\n",
    "        harf_notu = \"F\"\n",
    "    \n",
    "    print(harf_notu)\n",
    "else:\n",
    "    print(\"Lütfen 0-100 aralığında bir not girin.\")"
   ]
  },
  {
   "cell_type": "markdown",
   "metadata": {},
   "source": [
    "5 - Vücut kitle endeksini hesaplayan kodu yazınız. Hesapladığınız değerin hangi kategoride olduğunu belirtin. Örn: vki = 24, normal. Kategori aralıklarını araştırma sonucu kendiniz elde edin. "
   ]
  },
  {
   "cell_type": "code",
   "execution_count": 6,
   "metadata": {},
   "outputs": [
    {
     "name": "stdout",
     "output_type": "stream",
     "text": [
      "Zayıf\n"
     ]
    }
   ],
   "source": [
    "kilo = float(input(\"Kilonuzu (kg) girin: \"))\n",
    "boy = float(input(\"Boyunuzu (m) girin: \"))\n",
    "\n",
    "vki = kilo / (boy * boy)\n",
    "\n",
    "kategori = \"\"\n",
    "if vki < 18.5:\n",
    "    kategori = \"Zayıf\"\n",
    "elif 18.5 <= vki < 24.9:\n",
    "    kategori = \"Normal\"\n",
    "elif 25 <= vki < 29.9:\n",
    "    kategori = \"Kilolu\"\n",
    "elif 30 <= vki < 34.9:\n",
    "    kategori = \"Şişman (Obez - Sınıf I)\"\n",
    "elif 35 <= vki < 39.9:\n",
    "    kategori = \"Şişman (Obez - Sınıf II)\"\n",
    "else:\n",
    "    kategori = \"Aşırı Şişman (Obez - Sınıf III)\"\n",
    "\n",
    "\n",
    "print(kategori)"
   ]
  }
 ],
 "metadata": {
  "kernelspec": {
   "display_name": "base",
   "language": "python",
   "name": "python3"
  },
  "language_info": {
   "codemirror_mode": {
    "name": "ipython",
    "version": 3
   },
   "file_extension": ".py",
   "mimetype": "text/x-python",
   "name": "python",
   "nbconvert_exporter": "python",
   "pygments_lexer": "ipython3",
   "version": "3.9.7"
  },
  "orig_nbformat": 4
 },
 "nbformat": 4,
 "nbformat_minor": 2
}
